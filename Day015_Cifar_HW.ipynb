{
 "cells": [
  {
   "cell_type": "markdown",
   "metadata": {},
   "source": [
    "## 『本次練習內容』\n",
    "#### 運用這幾天所學觀念搭建一個CNN分類器"
   ]
  },
  {
   "cell_type": "markdown",
   "metadata": {},
   "source": [
    "## 『本次練習目的』\n",
    "  #### 熟悉CNN分類器搭建步驟與原理\n",
    "  #### 學員們可以嘗試不同搭法，如使用不同的Maxpooling層，用GlobalAveragePooling取代Flatten等等"
   ]
  },
  {
   "cell_type": "code",
   "execution_count": 1,
   "metadata": {},
   "outputs": [
    {
     "name": "stderr",
     "output_type": "stream",
     "text": [
      "Using TensorFlow backend.\n",
      "D:\\Anaconda3\\lib\\site-packages\\tensorflow\\python\\framework\\dtypes.py:516: FutureWarning: Passing (type, 1) or '1type' as a synonym of type is deprecated; in a future version of numpy, it will be understood as (type, (1,)) / '(1,)type'.\n",
      "  _np_qint8 = np.dtype([(\"qint8\", np.int8, 1)])\n",
      "D:\\Anaconda3\\lib\\site-packages\\tensorflow\\python\\framework\\dtypes.py:517: FutureWarning: Passing (type, 1) or '1type' as a synonym of type is deprecated; in a future version of numpy, it will be understood as (type, (1,)) / '(1,)type'.\n",
      "  _np_quint8 = np.dtype([(\"quint8\", np.uint8, 1)])\n",
      "D:\\Anaconda3\\lib\\site-packages\\tensorflow\\python\\framework\\dtypes.py:518: FutureWarning: Passing (type, 1) or '1type' as a synonym of type is deprecated; in a future version of numpy, it will be understood as (type, (1,)) / '(1,)type'.\n",
      "  _np_qint16 = np.dtype([(\"qint16\", np.int16, 1)])\n",
      "D:\\Anaconda3\\lib\\site-packages\\tensorflow\\python\\framework\\dtypes.py:519: FutureWarning: Passing (type, 1) or '1type' as a synonym of type is deprecated; in a future version of numpy, it will be understood as (type, (1,)) / '(1,)type'.\n",
      "  _np_quint16 = np.dtype([(\"quint16\", np.uint16, 1)])\n",
      "D:\\Anaconda3\\lib\\site-packages\\tensorflow\\python\\framework\\dtypes.py:520: FutureWarning: Passing (type, 1) or '1type' as a synonym of type is deprecated; in a future version of numpy, it will be understood as (type, (1,)) / '(1,)type'.\n",
      "  _np_qint32 = np.dtype([(\"qint32\", np.int32, 1)])\n",
      "D:\\Anaconda3\\lib\\site-packages\\tensorflow\\python\\framework\\dtypes.py:525: FutureWarning: Passing (type, 1) or '1type' as a synonym of type is deprecated; in a future version of numpy, it will be understood as (type, (1,)) / '(1,)type'.\n",
      "  np_resource = np.dtype([(\"resource\", np.ubyte, 1)])\n",
      "D:\\Anaconda3\\lib\\site-packages\\tensorboard\\compat\\tensorflow_stub\\dtypes.py:541: FutureWarning: Passing (type, 1) or '1type' as a synonym of type is deprecated; in a future version of numpy, it will be understood as (type, (1,)) / '(1,)type'.\n",
      "  _np_qint8 = np.dtype([(\"qint8\", np.int8, 1)])\n",
      "D:\\Anaconda3\\lib\\site-packages\\tensorboard\\compat\\tensorflow_stub\\dtypes.py:542: FutureWarning: Passing (type, 1) or '1type' as a synonym of type is deprecated; in a future version of numpy, it will be understood as (type, (1,)) / '(1,)type'.\n",
      "  _np_quint8 = np.dtype([(\"quint8\", np.uint8, 1)])\n",
      "D:\\Anaconda3\\lib\\site-packages\\tensorboard\\compat\\tensorflow_stub\\dtypes.py:543: FutureWarning: Passing (type, 1) or '1type' as a synonym of type is deprecated; in a future version of numpy, it will be understood as (type, (1,)) / '(1,)type'.\n",
      "  _np_qint16 = np.dtype([(\"qint16\", np.int16, 1)])\n",
      "D:\\Anaconda3\\lib\\site-packages\\tensorboard\\compat\\tensorflow_stub\\dtypes.py:544: FutureWarning: Passing (type, 1) or '1type' as a synonym of type is deprecated; in a future version of numpy, it will be understood as (type, (1,)) / '(1,)type'.\n",
      "  _np_quint16 = np.dtype([(\"quint16\", np.uint16, 1)])\n",
      "D:\\Anaconda3\\lib\\site-packages\\tensorboard\\compat\\tensorflow_stub\\dtypes.py:545: FutureWarning: Passing (type, 1) or '1type' as a synonym of type is deprecated; in a future version of numpy, it will be understood as (type, (1,)) / '(1,)type'.\n",
      "  _np_qint32 = np.dtype([(\"qint32\", np.int32, 1)])\n",
      "D:\\Anaconda3\\lib\\site-packages\\tensorboard\\compat\\tensorflow_stub\\dtypes.py:550: FutureWarning: Passing (type, 1) or '1type' as a synonym of type is deprecated; in a future version of numpy, it will be understood as (type, (1,)) / '(1,)type'.\n",
      "  np_resource = np.dtype([(\"resource\", np.ubyte, 1)])\n"
     ]
    }
   ],
   "source": [
    "from keras.models import Sequential\n",
    "from keras.layers import Convolution2D\n",
    "from keras.layers import MaxPooling2D\n",
    "from keras.layers import Flatten\n",
    "from keras.layers import Dense\n",
    "from keras.layers import Dropout\n",
    "from keras.layers import BatchNormalization\n",
    "from keras.datasets import cifar10\n",
    "import numpy as np\n",
    "import tensorflow as tf\n",
    "from sklearn.preprocessing import OneHotEncoder\n"
   ]
  },
  {
   "cell_type": "code",
   "execution_count": 2,
   "metadata": {},
   "outputs": [
    {
     "name": "stdout",
     "output_type": "stream",
     "text": [
      "(50000, 32, 32, 3)\n"
     ]
    }
   ],
   "source": [
    "(x_train, y_train), (x_test, y_test) = cifar10.load_data()\n",
    "\n",
    "print(x_train.shape) #(50000, 32, 32, 3)\n",
    "\n",
    "## Normalize Data\n",
    "def normalize(X_train,X_test):\n",
    "        mean = np.mean(X_train,axis=(0,1,2,3))\n",
    "        std = np.std(X_train, axis=(0, 1, 2, 3))\n",
    "        X_train = (X_train-mean)/(std+1e-7)\n",
    "        X_test = (X_test-mean)/(std+1e-7) \n",
    "        return X_train, X_test,mean,std\n",
    "    \n",
    "    \n",
    "## Normalize Training and Testset    \n",
    "x_train, x_test,mean_train,std_train = normalize(x_train, x_test) "
   ]
  },
  {
   "cell_type": "code",
   "execution_count": 3,
   "metadata": {},
   "outputs": [],
   "source": [
    "## OneHot Label 由(None, 1)-(None, 10)\n",
    "## ex. label=2,變成[0,0,1,0,0,0,0,0,0,0]\n",
    "one_hot=OneHotEncoder()\n",
    "y_train=one_hot.fit_transform(y_train).toarray()\n",
    "y_test=one_hot.transform(y_test).toarray()"
   ]
  },
  {
   "cell_type": "code",
   "execution_count": 4,
   "metadata": {},
   "outputs": [
    {
     "name": "stdout",
     "output_type": "stream",
     "text": [
      "WARNING:tensorflow:From D:\\Anaconda3\\lib\\site-packages\\keras\\backend\\tensorflow_backend.py:4070: The name tf.nn.max_pool is deprecated. Please use tf.nn.max_pool2d instead.\n",
      "\n"
     ]
    },
    {
     "name": "stderr",
     "output_type": "stream",
     "text": [
      "D:\\Anaconda3\\lib\\site-packages\\ipykernel_launcher.py:15: UserWarning: Update your `Dense` call to the Keras 2 API: `Dense(activation=\"relu\", units=100)`\n",
      "  from ipykernel import kernelapp as app\n",
      "D:\\Anaconda3\\lib\\site-packages\\ipykernel_launcher.py:18: UserWarning: Update your `Dense` call to the Keras 2 API: `Dense(activation=\"softmax\", units=10)`\n"
     ]
    },
    {
     "name": "stdout",
     "output_type": "stream",
     "text": [
      "WARNING:tensorflow:From D:\\Anaconda3\\lib\\site-packages\\keras\\backend\\tensorflow_backend.py:422: The name tf.global_variables is deprecated. Please use tf.compat.v1.global_variables instead.\n",
      "\n",
      "Epoch 1/100\n",
      "50000/50000 [==============================] - 190s 4ms/step - loss: 1.3344 - accuracy: 0.5349\n",
      "Epoch 2/100\n",
      "50000/50000 [==============================] - 189s 4ms/step - loss: 0.9403 - accuracy: 0.6724\n",
      "Epoch 3/100\n",
      "50000/50000 [==============================] - 189s 4ms/step - loss: 0.7742 - accuracy: 0.7303\n",
      "Epoch 4/100\n",
      "50000/50000 [==============================] - 197s 4ms/step - loss: 0.6375 - accuracy: 0.7798\n",
      "Epoch 5/100\n",
      "50000/50000 [==============================] - 189s 4ms/step - loss: 0.5020 - accuracy: 0.8271\n",
      "Epoch 6/100\n",
      "50000/50000 [==============================] - 189s 4ms/step - loss: 0.3828 - accuracy: 0.8664\n",
      "Epoch 7/100\n",
      "50000/50000 [==============================] - 190s 4ms/step - loss: 0.2786 - accuracy: 0.9052\n",
      "Epoch 8/100\n",
      "50000/50000 [==============================] - 189s 4ms/step - loss: 0.2018 - accuracy: 0.9315\n",
      "Epoch 9/100\n",
      "50000/50000 [==============================] - 189s 4ms/step - loss: 0.1515 - accuracy: 0.9473\n",
      "Epoch 10/100\n",
      "50000/50000 [==============================] - 189s 4ms/step - loss: 0.1399 - accuracy: 0.9530\n",
      "Epoch 11/100\n",
      "50000/50000 [==============================] - 189s 4ms/step - loss: 0.1058 - accuracy: 0.9638\n",
      "Epoch 12/100\n",
      "50000/50000 [==============================] - 189s 4ms/step - loss: 0.0930 - accuracy: 0.9678\n",
      "Epoch 13/100\n",
      "50000/50000 [==============================] - 189s 4ms/step - loss: 0.0981 - accuracy: 0.9664\n",
      "Epoch 14/100\n",
      "50000/50000 [==============================] - 189s 4ms/step - loss: 0.0853 - accuracy: 0.9701\n",
      "Epoch 15/100\n",
      "50000/50000 [==============================] - 189s 4ms/step - loss: 0.0666 - accuracy: 0.9771\n",
      "Epoch 16/100\n",
      "50000/50000 [==============================] - 189s 4ms/step - loss: 0.0658 - accuracy: 0.9776\n",
      "Epoch 17/100\n",
      "50000/50000 [==============================] - 189s 4ms/step - loss: 0.0771 - accuracy: 0.9737\n",
      "Epoch 18/100\n",
      "50000/50000 [==============================] - 189s 4ms/step - loss: 0.0649 - accuracy: 0.9784\n",
      "Epoch 19/100\n",
      "50000/50000 [==============================] - 189s 4ms/step - loss: 0.0541 - accuracy: 0.9824\n",
      "Epoch 20/100\n",
      "50000/50000 [==============================] - 189s 4ms/step - loss: 0.0571 - accuracy: 0.9809\n",
      "Epoch 21/100\n",
      "50000/50000 [==============================] - 189s 4ms/step - loss: 0.0511 - accuracy: 0.9835\n",
      "Epoch 22/100\n",
      "50000/50000 [==============================] - 189s 4ms/step - loss: 0.0447 - accuracy: 0.9846\n",
      "Epoch 23/100\n",
      "50000/50000 [==============================] - 190s 4ms/step - loss: 0.0508 - accuracy: 0.9825\n",
      "Epoch 24/100\n",
      "50000/50000 [==============================] - 189s 4ms/step - loss: 0.0584 - accuracy: 0.9812\n",
      "Epoch 25/100\n",
      "50000/50000 [==============================] - 189s 4ms/step - loss: 0.0422 - accuracy: 0.9863\n",
      "Epoch 26/100\n",
      "50000/50000 [==============================] - 192s 4ms/step - loss: 0.0337 - accuracy: 0.9886\n",
      "Epoch 27/100\n",
      "50000/50000 [==============================] - 189s 4ms/step - loss: 0.0482 - accuracy: 0.9841\n",
      "Epoch 28/100\n",
      "50000/50000 [==============================] - 189s 4ms/step - loss: 0.0467 - accuracy: 0.9847\n",
      "Epoch 29/100\n",
      "50000/50000 [==============================] - 190s 4ms/step - loss: 0.0427 - accuracy: 0.9861\n",
      "Epoch 30/100\n",
      "50000/50000 [==============================] - 188s 4ms/step - loss: 0.0302 - accuracy: 0.9896\n",
      "Epoch 31/100\n",
      "50000/50000 [==============================] - 205s 4ms/step - loss: 0.0384 - accuracy: 0.9871\n",
      "Epoch 32/100\n",
      "50000/50000 [==============================] - 199s 4ms/step - loss: 0.0460 - accuracy: 0.9854\n",
      "Epoch 33/100\n",
      "50000/50000 [==============================] - 210s 4ms/step - loss: 0.0451 - accuracy: 0.9857\n",
      "Epoch 34/100\n",
      "50000/50000 [==============================] - 204s 4ms/step - loss: 0.0321 - accuracy: 0.9891\n",
      "Epoch 35/100\n",
      "50000/50000 [==============================] - 190s 4ms/step - loss: 0.0281 - accuracy: 0.9906\n",
      "Epoch 36/100\n",
      "50000/50000 [==============================] - 188s 4ms/step - loss: 0.0277 - accuracy: 0.9906\n",
      "Epoch 37/100\n",
      "50000/50000 [==============================] - 188s 4ms/step - loss: 0.0291 - accuracy: 0.9902\n",
      "Epoch 38/100\n",
      "50000/50000 [==============================] - 188s 4ms/step - loss: 0.0333 - accuracy: 0.9893\n",
      "Epoch 39/100\n",
      "50000/50000 [==============================] - 188s 4ms/step - loss: 0.0313 - accuracy: 0.9896\n",
      "Epoch 40/100\n",
      "50000/50000 [==============================] - 196s 4ms/step - loss: 0.0326 - accuracy: 0.9898\n",
      "Epoch 41/100\n",
      "50000/50000 [==============================] - 189s 4ms/step - loss: 0.0308 - accuracy: 0.9901\n",
      "Epoch 42/100\n",
      "50000/50000 [==============================] - 199s 4ms/step - loss: 0.0288 - accuracy: 0.9901\n",
      "Epoch 43/100\n",
      "50000/50000 [==============================] - 193s 4ms/step - loss: 0.0297 - accuracy: 0.9908\n",
      "Epoch 44/100\n",
      "50000/50000 [==============================] - 192s 4ms/step - loss: 0.0245 - accuracy: 0.9920\n",
      "Epoch 45/100\n",
      "50000/50000 [==============================] - 192s 4ms/step - loss: 0.0290 - accuracy: 0.9905\n",
      "Epoch 46/100\n",
      "50000/50000 [==============================] - 192s 4ms/step - loss: 0.0240 - accuracy: 0.9924\n",
      "Epoch 47/100\n",
      "50000/50000 [==============================] - 192s 4ms/step - loss: 0.0201 - accuracy: 0.9935\n",
      "Epoch 48/100\n",
      "50000/50000 [==============================] - 192s 4ms/step - loss: 0.0216 - accuracy: 0.9931\n",
      "Epoch 49/100\n",
      "50000/50000 [==============================] - 192s 4ms/step - loss: 0.0336 - accuracy: 0.9890\n",
      "Epoch 50/100\n",
      "50000/50000 [==============================] - 192s 4ms/step - loss: 0.0299 - accuracy: 0.9907\n",
      "Epoch 51/100\n",
      "50000/50000 [==============================] - 195s 4ms/step - loss: 0.0249 - accuracy: 0.9924\n",
      "Epoch 52/100\n",
      "50000/50000 [==============================] - 194s 4ms/step - loss: 0.0268 - accuracy: 0.9912\n",
      "Epoch 53/100\n",
      "50000/50000 [==============================] - 193s 4ms/step - loss: 0.0203 - accuracy: 0.9937\n",
      "Epoch 54/100\n",
      "50000/50000 [==============================] - 193s 4ms/step - loss: 0.0192 - accuracy: 0.9938\n",
      "Epoch 55/100\n",
      "50000/50000 [==============================] - 193s 4ms/step - loss: 0.0257 - accuracy: 0.9921\n",
      "Epoch 56/100\n",
      "50000/50000 [==============================] - 194s 4ms/step - loss: 0.0258 - accuracy: 0.9924\n",
      "Epoch 57/100\n",
      "50000/50000 [==============================] - 193s 4ms/step - loss: 0.0183 - accuracy: 0.9938\n",
      "Epoch 58/100\n",
      "50000/50000 [==============================] - 205s 4ms/step - loss: 0.0195 - accuracy: 0.9939\n",
      "Epoch 59/100\n",
      "50000/50000 [==============================] - 201s 4ms/step - loss: 0.0255 - accuracy: 0.9920\n",
      "Epoch 60/100\n",
      "50000/50000 [==============================] - 227s 5ms/step - loss: 0.0241 - accuracy: 0.9927\n",
      "Epoch 61/100\n",
      "50000/50000 [==============================] - 234s 5ms/step - loss: 0.0214 - accuracy: 0.9927\n",
      "Epoch 62/100\n",
      "50000/50000 [==============================] - 219s 4ms/step - loss: 0.0165 - accuracy: 0.9948\n",
      "Epoch 63/100\n",
      "50000/50000 [==============================] - 215s 4ms/step - loss: 0.0235 - accuracy: 0.9926\n",
      "Epoch 64/100\n",
      "50000/50000 [==============================] - 210s 4ms/step - loss: 0.0245 - accuracy: 0.9923\n",
      "Epoch 65/100\n",
      "50000/50000 [==============================] - 220s 4ms/step - loss: 0.0161 - accuracy: 0.9948\n",
      "Epoch 66/100\n",
      "50000/50000 [==============================] - 206s 4ms/step - loss: 0.0160 - accuracy: 0.9950\n",
      "Epoch 67/100\n",
      "50000/50000 [==============================] - 190s 4ms/step - loss: 0.0230 - accuracy: 0.9928\n",
      "Epoch 68/100\n",
      "50000/50000 [==============================] - 189s 4ms/step - loss: 0.0183 - accuracy: 0.9944\n",
      "Epoch 69/100\n",
      "50000/50000 [==============================] - 188s 4ms/step - loss: 0.0187 - accuracy: 0.9939\n",
      "Epoch 70/100\n",
      "50000/50000 [==============================] - 188s 4ms/step - loss: 0.0149 - accuracy: 0.9951\n",
      "Epoch 71/100\n",
      "50000/50000 [==============================] - 196s 4ms/step - loss: 0.0170 - accuracy: 0.9943\n",
      "Epoch 72/100\n",
      "50000/50000 [==============================] - 209s 4ms/step - loss: 0.0192 - accuracy: 0.9936\n",
      "Epoch 73/100\n",
      "50000/50000 [==============================] - 200s 4ms/step - loss: 0.0204 - accuracy: 0.9935\n",
      "Epoch 74/100\n",
      "50000/50000 [==============================] - 193s 4ms/step - loss: 0.0136 - accuracy: 0.9953\n",
      "Epoch 75/100\n"
     ]
    },
    {
     "name": "stdout",
     "output_type": "stream",
     "text": [
      "50000/50000 [==============================] - 199s 4ms/step - loss: 0.0205 - accuracy: 0.9941\n",
      "Epoch 76/100\n",
      "50000/50000 [==============================] - 192s 4ms/step - loss: 0.0140 - accuracy: 0.9957\n",
      "Epoch 77/100\n",
      "50000/50000 [==============================] - 191s 4ms/step - loss: 0.0127 - accuracy: 0.9960\n",
      "Epoch 78/100\n",
      "50000/50000 [==============================] - 218s 4ms/step - loss: 0.0241 - accuracy: 0.9929\n",
      "Epoch 79/100\n",
      "50000/50000 [==============================] - 202s 4ms/step - loss: 0.0192 - accuracy: 0.9942\n",
      "Epoch 80/100\n",
      "50000/50000 [==============================] - 202s 4ms/step - loss: 0.0177 - accuracy: 0.9949\n",
      "Epoch 81/100\n",
      "50000/50000 [==============================] - 201s 4ms/step - loss: 0.0180 - accuracy: 0.9949\n",
      "Epoch 82/100\n",
      "50000/50000 [==============================] - 198s 4ms/step - loss: 0.0142 - accuracy: 0.9954\n",
      "Epoch 83/100\n",
      "50000/50000 [==============================] - 199s 4ms/step - loss: 0.0092 - accuracy: 0.9971\n",
      "Epoch 84/100\n",
      "50000/50000 [==============================] - 200s 4ms/step - loss: 0.0194 - accuracy: 0.9943\n",
      "Epoch 85/100\n",
      "50000/50000 [==============================] - 192s 4ms/step - loss: 0.0190 - accuracy: 0.9939\n",
      "Epoch 86/100\n",
      "50000/50000 [==============================] - 192s 4ms/step - loss: 0.0105 - accuracy: 0.9965\n",
      "Epoch 87/100\n",
      "50000/50000 [==============================] - 192s 4ms/step - loss: 0.0184 - accuracy: 0.9944\n",
      "Epoch 88/100\n",
      "50000/50000 [==============================] - 191s 4ms/step - loss: 0.0165 - accuracy: 0.9951\n",
      "Epoch 89/100\n",
      "50000/50000 [==============================] - 191s 4ms/step - loss: 0.0130 - accuracy: 0.9956\n",
      "Epoch 90/100\n",
      "50000/50000 [==============================] - 191s 4ms/step - loss: 0.0161 - accuracy: 0.9952\n",
      "Epoch 91/100\n",
      "50000/50000 [==============================] - 190s 4ms/step - loss: 0.0160 - accuracy: 0.9946\n",
      "Epoch 92/100\n",
      "50000/50000 [==============================] - 191s 4ms/step - loss: 0.0154 - accuracy: 0.9955\n",
      "Epoch 93/100\n",
      "50000/50000 [==============================] - 191s 4ms/step - loss: 0.0149 - accuracy: 0.9953\n",
      "Epoch 94/100\n",
      "50000/50000 [==============================] - 190s 4ms/step - loss: 0.0157 - accuracy: 0.9952\n",
      "Epoch 95/100\n",
      "50000/50000 [==============================] - 191s 4ms/step - loss: 0.0132 - accuracy: 0.9960\n",
      "Epoch 96/100\n",
      "50000/50000 [==============================] - 193s 4ms/step - loss: 0.0088 - accuracy: 0.9971\n",
      "Epoch 97/100\n",
      "50000/50000 [==============================] - 195s 4ms/step - loss: 0.0127 - accuracy: 0.9963\n",
      "Epoch 98/100\n",
      "50000/50000 [==============================] - 196s 4ms/step - loss: 0.0137 - accuracy: 0.9956\n",
      "Epoch 99/100\n",
      "50000/50000 [==============================] - 193s 4ms/step - loss: 0.0196 - accuracy: 0.9946\n",
      "Epoch 100/100\n",
      "50000/50000 [==============================] - 190s 4ms/step - loss: 0.0133 - accuracy: 0.9959\n"
     ]
    },
    {
     "data": {
      "text/plain": [
       "<keras.callbacks.callbacks.History at 0x2d838515408>"
      ]
     },
     "execution_count": 4,
     "metadata": {},
     "output_type": "execute_result"
    }
   ],
   "source": [
    "\n",
    "classifier=Sequential()\n",
    "\n",
    "#卷積組合\n",
    "classifier.add(Convolution2D(32,(3,3),input_shape=(32,32,3),activation='relu'))\n",
    "classifier.add(BatchNormalization())\n",
    "\n",
    "#卷積組合\n",
    "classifier.add(Convolution2D(32,(3,3),input_shape=(32,32,3),activation='relu'))\n",
    "classifier.add(BatchNormalization())\n",
    "classifier.add(MaxPooling2D(pool_size=(2,2)))\n",
    "#flatten\n",
    "classifier.add(Flatten())\n",
    "\n",
    "#FC\n",
    "classifier.add(Dense(output_dim=100,activation='relu')) #output_dim=100,activation=relu\n",
    "\n",
    "#輸出\n",
    "classifier.add(Dense(output_dim=10,activation='softmax'))\n",
    "\n",
    "#超過兩個就要選categorical_crossentrophy\n",
    "classifier.compile(optimizer = 'adam', loss = 'categorical_crossentropy', metrics = ['accuracy'])\n",
    "classifier.fit(x_train,y_train,batch_size=100,epochs=100)"
   ]
  },
  {
   "cell_type": "markdown",
   "metadata": {},
   "source": [
    "## 預測新圖片，輸入影像前處理要與訓練時相同\n",
    "#### ((X-mean)/(std+1e-7) ):這裡的mean跟std是訓練集的\n",
    "## 維度如下方示範"
   ]
  },
  {
   "cell_type": "code",
   "execution_count": 5,
   "metadata": {},
   "outputs": [
    {
     "data": {
      "text/plain": [
       "array([[2.9964305e-11, 0.0000000e+00, 3.0077787e-34, 1.0000000e+00,\n",
       "        3.1723935e-10, 0.0000000e+00, 1.2890722e-35, 0.0000000e+00,\n",
       "        1.3338050e-16, 0.0000000e+00]], dtype=float32)"
      ]
     },
     "execution_count": 5,
     "metadata": {},
     "output_type": "execute_result"
    }
   ],
   "source": [
    "input_example=(np.zeros(shape=(1,32,32,3))-mean_train)/(std_train+1e-7) \n",
    "classifier.predict(input_example)"
   ]
  },
  {
   "cell_type": "code",
   "execution_count": null,
   "metadata": {},
   "outputs": [],
   "source": []
  }
 ],
 "metadata": {
  "kernelspec": {
   "display_name": "Python 3",
   "language": "python",
   "name": "python3"
  },
  "language_info": {
   "codemirror_mode": {
    "name": "ipython",
    "version": 3
   },
   "file_extension": ".py",
   "mimetype": "text/x-python",
   "name": "python",
   "nbconvert_exporter": "python",
   "pygments_lexer": "ipython3",
   "version": "3.7.6"
  }
 },
 "nbformat": 4,
 "nbformat_minor": 2
}
